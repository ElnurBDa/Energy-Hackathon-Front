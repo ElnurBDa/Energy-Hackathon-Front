{
 "cells": [
  {
   "cell_type": "code",
   "execution_count": null,
   "id": "66265fb9",
   "metadata": {},
   "outputs": [],
   "source": [
    "# Import necessary libraries\n",
    "import pandas as pd\n",
    "import numpy as np\n",
    "import matplotlib.pyplot as plt\n",
    "import seaborn as sns\n",
    "from sklearn.model_selection import train_test_split, cross_val_score\n",
    "from sklearn.linear_model import LinearRegression, Ridge, Lasso\n",
    "from sklearn.tree import DecisionTreeRegressor\n",
    "from sklearn.ensemble import RandomForestRegressor\n",
    "from sklearn.metrics import mean_squared_error\n",
    "\n",
    "\n",
    "url = \"https://archive.ics.uci.edu/ml/machine-learning-databases/00235/household_power_consumption.txt\"\n",
    "energy_data = pd.read_csv(url, sep=';', parse_dates={'Datetime': ['Date', 'Time']}, infer_datetime_format=True)\n",
    "\n",
    "energy_data.dropna(inplace=True)\n",
    "\n",
    "\n",
    "energy_data['Month'] = energy_data['Datetime'].dt.month\n",
    "energy_data['Year'] = energy_data['Datetime'].dt.year\n",
    "\n",
    "\n",
    "X = energy_data[['Month', 'Year']]\n",
    "y = energy_data['Global_active_power']\n",
    "\n",
    "X_train, X_test, y_train, y_test = train_test_split(X, y, test_size=0.2, random_state=42)\n",
    "\n",
    "\n",
    "models = {\n",
    "    'Linear Regression': LinearRegression(),\n",
    "    'Ridge Regression': Ridge(),\n",
    "    'Lasso Regression': Lasso(),\n",
    "    'Decision Tree': DecisionTreeRegressor(),\n",
    "    'Random Forest': RandomForestRegressor()\n",
    "}\n",
    "\n",
    "\n",
    "for name, model in models.items():\n",
    "    scores = cross_val_score(model, X_train, y_train, cv=5, scoring='neg_mean_squared_error')\n",
    "    rmse_scores = np.sqrt(-scores)\n",
    "    print(f\"{name}: Mean RMSE: {np.mean(rmse_scores)}, Standard Deviation RMSE: {np.std(rmse_scores)}\")\n",
    "\n",
    "\n",
    "best_model = RandomForestRegressor()  \n",
    "best_model.fit(X_train, y_train)\n",
    "y_pred = best_model.predict(X_test)\n",
    "mse = mean_squared_error(y_test, y_pred)\n",
    "print('Best Model Mean Squared Error:', mse)\n"
   ]
  }
 ],
 "metadata": {
  "kernelspec": {
   "display_name": "Python 3 (ipykernel)",
   "language": "python",
   "name": "python3"
  },
  "language_info": {
   "codemirror_mode": {
    "name": "ipython",
    "version": 3
   },
   "file_extension": ".py",
   "mimetype": "text/x-python",
   "name": "python",
   "nbconvert_exporter": "python",
   "pygments_lexer": "ipython3",
   "version": "3.11.5"
  }
 },
 "nbformat": 4,
 "nbformat_minor": 5
}
